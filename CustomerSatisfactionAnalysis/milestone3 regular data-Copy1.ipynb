{
 "cells": [
  {
   "cell_type": "code",
   "execution_count": 1,
   "metadata": {
    "collapsed": true
   },
   "outputs": [],
   "source": [
    "import csv\n",
    "import numpy as np\n",
    "import pandas as pd\n",
    "from sklearn.utils import resample\n",
    "from sklearn.neural_network import MLPRegressor\n",
    "from sklearn.neural_network import MLPClassifier\n",
    "from sklearn.preprocessing import StandardScaler\n",
    "from sklearn.metrics import accuracy_score"
   ]
  },
  {
   "cell_type": "code",
   "execution_count": 62,
   "metadata": {},
   "outputs": [
    {
     "data": {
      "text/plain": [
       "1    17088\n",
       "0    17088\n",
       "Name: finActivity, dtype: int64"
      ]
     },
     "execution_count": 62,
     "metadata": {},
     "output_type": "execute_result"
    }
   ],
   "source": [
    "# data has logitic value, transfrom logistic value to int value\n",
    "diction={'sexo': int,'indresi':int, 'indext':int, 'inSpain':int,'cTypeBeg1':int, 'cTypeBeg2':int, 'cTypeBeg3':int, 'cTypeBeg4':int, 'cTypeBegP':int, 'cusRelA':int,'cusRelI':int, 'cusRelN':int, 'cusRelP':int, 'cusRelR':int, 'segmento1':int, 'segmento2':int, 'segmento3':int, 'indEmpF':int,'indEmpA':int, 'indEmpN':int, 'indEmpB':int, 'indEmpS':int}\n",
    "full_train_data=pd.read_csv('training_data.csv',dtype=diction)\n",
    "del full_train_data['Unnamed: 0']\n",
    "full_train_data_majority=full_train_data[full_train_data.finActivity==1]\n",
    "full_train_data_minority=full_train_data[full_train_data.finActivity==0]\n",
    "full_train_data_majority_downsampled=resample(full_train_data_majority, \n",
    "                                              replace=False, n_samples=len(full_train_data_minority), random_state=123)\n",
    "full_train_data_downsampled=pd.concat([full_train_data_majority_downsampled, full_train_data_minority])\n",
    "full_train_data_downsampled.finActivity.value_counts()"
   ]
  },
  {
   "cell_type": "code",
   "execution_count": 63,
   "metadata": {
    "collapsed": true
   },
   "outputs": [],
   "source": [
    "full_train_data_y=full_train_data_downsampled.finActivity\n",
    "full_train_data_x=full_train_data_downsampled.drop('finActivity',axis=1)\n",
    "colnames=['number','y']\n",
    "data1_new = pd.read_csv('test_data_y_new.csv', names=colnames) \n",
    "test_data_y_new=data1_new.y.tolist()\n",
    "testing_data_y_new=[]\n",
    "for i in test_data_y_new[1:]:\n",
    "    i=int(i)\n",
    "    testing_data_y_new.append(i)\n",
    "#print(train_data_y)\n",
    "test_y_new=np.array(testing_data_y_new)\n",
    "df1_new= pd.read_csv('test_data_x_new.csv',dtype=diction)\n",
    "del df1_new['Unnamed: 0']\n",
    "test_data_x_new=np.array(df1_new)"
   ]
  },
  {
   "cell_type": "code",
   "execution_count": 64,
   "metadata": {
    "collapsed": true
   },
   "outputs": [],
   "source": [
    "# explain why scale data? \n",
    "scl = StandardScaler()\n",
    "scl.fit(full_train_data_x)\n",
    "full_train_data_x = scl.transform(full_train_data_x)\n",
    "test_data_x_new=scl.transform(test_data_x_new)"
   ]
  },
  {
   "cell_type": "code",
   "execution_count": 5,
   "metadata": {},
   "outputs": [
    {
     "data": {
      "text/plain": [
       "MLPClassifier(activation='relu', alpha=0.0001, batch_size='auto', beta_1=0.9,\n",
       "       beta_2=0.999, early_stopping=False, epsilon=1e-08,\n",
       "       hidden_layer_sizes=(40,), learning_rate='constant',\n",
       "       learning_rate_init=0.001, max_iter=200, momentum=0.9,\n",
       "       nesterovs_momentum=True, power_t=0.5, random_state=1, shuffle=True,\n",
       "       solver='adam', tol=0.0001, validation_fraction=0.1, verbose=False,\n",
       "       warm_start=False)"
      ]
     },
     "execution_count": 5,
     "metadata": {},
     "output_type": "execute_result"
    }
   ],
   "source": [
    "regressor1= MLPClassifier(hidden_layer_sizes=(40,),  \n",
    "                        solver='adam',\n",
    "                          random_state=1,\n",
    "                          warm_start=False)\n",
    "regressor1.fit(full_train_data_x, full_train_data_y)"
   ]
  },
  {
   "cell_type": "code",
   "execution_count": 6,
   "metadata": {},
   "outputs": [
    {
     "data": {
      "text/plain": [
       "0.8209562265917603"
      ]
     },
     "execution_count": 6,
     "metadata": {},
     "output_type": "execute_result"
    }
   ],
   "source": [
    "full_train_data_y_pred_1= regressor1.predict(full_train_data_x)\n",
    "accuracy_score(full_train_data_y, full_train_data_y_pred_1)"
   ]
  },
  {
   "cell_type": "code",
   "execution_count": 7,
   "metadata": {},
   "outputs": [
    {
     "data": {
      "text/plain": [
       "0.805753305244806"
      ]
     },
     "execution_count": 7,
     "metadata": {},
     "output_type": "execute_result"
    }
   ],
   "source": [
    "y_test_pred_new_1=regressor1.predict(test_data_x_new)\n",
    "accuracy_score(test_y_new, y_test_pred_new_1)"
   ]
  },
  {
   "cell_type": "code",
   "execution_count": 8,
   "metadata": {},
   "outputs": [
    {
     "data": {
      "text/plain": [
       "0.8450026723677178"
      ]
     },
     "execution_count": 8,
     "metadata": {},
     "output_type": "execute_result"
    }
   ],
   "source": [
    "label_0_test=test_y_new[test_y_new==0]\n",
    "label_pred_0_test_1=y_test_pred_new_1[test_y_new==0]\n",
    "accuracy_score(label_0_test, label_pred_0_test_1)"
   ]
  },
  {
   "cell_type": "code",
   "execution_count": 9,
   "metadata": {},
   "outputs": [
    {
     "data": {
      "text/plain": [
       "0.8362008426966292"
      ]
     },
     "execution_count": 9,
     "metadata": {},
     "output_type": "execute_result"
    }
   ],
   "source": [
    "label_pred_0_1=full_train_data_y_pred_1[full_train_data_y==0]\n",
    "label_0=full_train_data_y[full_train_data_y==0]\n",
    "accuracy_score(label_0, label_pred_0_1)"
   ]
  },
  {
   "cell_type": "code",
   "execution_count": 10,
   "metadata": {
    "collapsed": true
   },
   "outputs": [],
   "source": [
    "#build nn\n",
    "\n",
    "#clf = MLPClassifier(hidden_layer_sizes=(15,), random_state=1, max_iter=1, warm_start=True)\n",
    "\n",
    "# regressor2= MLPClassifier(hidden_layer_sizes=(45,),  \n",
    "#                         solver='adam',\n",
    "#                           random_state=1,\n",
    "#                           warm_start=False)\n",
    "# regressor2.fit(full_train_data_x, full_train_data_y)\n",
    "# full_train_data_y_pred_1= regressor2.predict(full_train_data_x)\n",
    "# accuracy_score(full_train_data_y, full_train_data_y_pred_1)\n",
    "# y_test_pred_new_1=regressor1.predict(test_data_x_new)\n",
    "# accuracy_score(test_y_new, y_test_pred_new_1)\n",
    "# label_0_test=test_y_new[test_y_new==0]\n",
    "# label_pred_0_test_1=y_test_pred_new_1[test_y_new==0]\n",
    "# accuracy_score(label_0_test, label_pred_0_test_1)\n",
    "# label_pred_0_1=full_train_data_y_pred_1[full_train_data_y==0]\n",
    "# label_0=full_train_data_y[full_train_data_y==0]\n",
    "# accuracy_score(label_0, label_pred_0_1)"
   ]
  },
  {
   "cell_type": "code",
   "execution_count": 472,
   "metadata": {
    "collapsed": true
   },
   "outputs": [],
   "source": [
    "import keras\n",
    "from keras.models import Sequential\n",
    "from keras.layers import Dense, Dropout, Flatten\n",
    "from keras.layers import Convolution2D, MaxPooling2D\n",
    "from keras import backend as K\n",
    "from keras.utils import np_utils\n",
    "from keras.optimizers import RMSprop\n",
    "from keras.layers.core import Dense, Dropout, Activation\n",
    "from keras.preprocessing.image import ImageDataGenerator\n",
    "from keras.layers.normalization import BatchNormalization\n",
    "np.random.seed(7)"
   ]
  },
  {
   "cell_type": "code",
   "execution_count": 473,
   "metadata": {},
   "outputs": [
    {
     "data": {
      "text/plain": [
       "77"
      ]
     },
     "execution_count": 473,
     "metadata": {},
     "output_type": "execute_result"
    }
   ],
   "source": [
    "full_train_data_x.shape[1]"
   ]
  },
  {
   "cell_type": "code",
   "execution_count": 474,
   "metadata": {
    "collapsed": true
   },
   "outputs": [],
   "source": [
    "model= Sequential()"
   ]
  },
  {
   "cell_type": "code",
   "execution_count": 476,
   "metadata": {
    "collapsed": true
   },
   "outputs": [],
   "source": [
    "model.add(Dense(120, input_dim=77, activation='relu'))\n",
    "model.add(Dense(120, activation='relu'))\n",
    "# model.add(Dense(90, activation='relu'))\n",
    "model.add(Dense(1, activation='sigmoid'))"
   ]
  },
  {
   "cell_type": "code",
   "execution_count": 478,
   "metadata": {
    "collapsed": true
   },
   "outputs": [],
   "source": [
    "model.compile(loss='binary_crossentropy', optimizer='adam', metrics=['accuracy'])"
   ]
  },
  {
   "cell_type": "code",
   "execution_count": 479,
   "metadata": {},
   "outputs": [
    {
     "name": "stdout",
     "output_type": "stream",
     "text": [
      "Train on 34176 samples, validate on 34415 samples\n",
      "Epoch 1/100\n",
      "34176/34176 [==============================] - 4s 127us/step - loss: 0.4046 - acc: 0.7954 - val_loss: 0.3396 - val_acc: 0.7982\n",
      "Epoch 2/100\n",
      "34176/34176 [==============================] - 1s 37us/step - loss: 0.3748 - acc: 0.8085 - val_loss: 0.3885 - val_acc: 0.7623\n",
      "Epoch 3/100\n",
      "34176/34176 [==============================] - 1s 43us/step - loss: 0.3714 - acc: 0.8106 - val_loss: 0.3444 - val_acc: 0.7863\n",
      "Epoch 4/100\n",
      "34176/34176 [==============================] - 1s 40us/step - loss: 0.3673 - acc: 0.8124 - val_loss: 0.3546 - val_acc: 0.7922\n",
      "Epoch 5/100\n",
      "34176/34176 [==============================] - 1s 38us/step - loss: 0.3642 - acc: 0.8137 - val_loss: 0.3485 - val_acc: 0.8079\n",
      "Epoch 6/100\n",
      "34176/34176 [==============================] - 1s 39us/step - loss: 0.3631 - acc: 0.8143 - val_loss: 0.3934 - val_acc: 0.7824\n",
      "Epoch 7/100\n",
      "34176/34176 [==============================] - 2s 44us/step - loss: 0.3603 - acc: 0.8168 - val_loss: 0.3485 - val_acc: 0.8154\n",
      "Epoch 8/100\n",
      "34176/34176 [==============================] - 2s 47us/step - loss: 0.3579 - acc: 0.8178 - val_loss: 0.3927 - val_acc: 0.7787\n",
      "Epoch 9/100\n",
      "34176/34176 [==============================] - 1s 39us/step - loss: 0.3569 - acc: 0.8181 - val_loss: 0.3587 - val_acc: 0.7921\n",
      "Epoch 10/100\n",
      "34176/34176 [==============================] - 1s 40us/step - loss: 0.3548 - acc: 0.8197 - val_loss: 0.3873 - val_acc: 0.7926\n",
      "Epoch 11/100\n",
      "34176/34176 [==============================] - 2s 51us/step - loss: 0.3530 - acc: 0.8197 - val_loss: 0.3898 - val_acc: 0.7820\n",
      "Epoch 12/100\n",
      "34176/34176 [==============================] - 2s 58us/step - loss: 0.3530 - acc: 0.8188 - val_loss: 0.3481 - val_acc: 0.8058\n",
      "Epoch 13/100\n",
      "34176/34176 [==============================] - 2s 54us/step - loss: 0.3505 - acc: 0.8200 - val_loss: 0.3688 - val_acc: 0.7960\n",
      "Epoch 14/100\n",
      "34176/34176 [==============================] - 2s 54us/step - loss: 0.3492 - acc: 0.8216 - val_loss: 0.3221 - val_acc: 0.8394\n",
      "Epoch 15/100\n",
      "34176/34176 [==============================] - 2s 49us/step - loss: 0.3478 - acc: 0.8223 - val_loss: 0.3286 - val_acc: 0.8459\n",
      "Epoch 16/100\n",
      "34176/34176 [==============================] - 1s 41us/step - loss: 0.3457 - acc: 0.8232 - val_loss: 0.4000 - val_acc: 0.7784\n",
      "Epoch 17/100\n",
      "34176/34176 [==============================] - 1s 42us/step - loss: 0.3451 - acc: 0.8221 - val_loss: 0.3603 - val_acc: 0.8236\n",
      "Epoch 18/100\n",
      "34176/34176 [==============================] - 2s 56us/step - loss: 0.3433 - acc: 0.8238 - val_loss: 0.3388 - val_acc: 0.8370\n",
      "Epoch 19/100\n",
      "34176/34176 [==============================] - 2s 49us/step - loss: 0.3414 - acc: 0.8250 - val_loss: 0.3833 - val_acc: 0.7986\n",
      "Epoch 20/100\n",
      "34176/34176 [==============================] - 2s 50us/step - loss: 0.3397 - acc: 0.8252 - val_loss: 0.3589 - val_acc: 0.8216\n",
      "Epoch 21/100\n",
      "34176/34176 [==============================] - 2s 45us/step - loss: 0.3381 - acc: 0.8251 - val_loss: 0.4122 - val_acc: 0.7786\n",
      "Epoch 22/100\n",
      "34176/34176 [==============================] - 1s 44us/step - loss: 0.3379 - acc: 0.8273 - val_loss: 0.3830 - val_acc: 0.7896\n",
      "Epoch 23/100\n",
      "34176/34176 [==============================] - 1s 40us/step - loss: 0.3348 - acc: 0.8280 - val_loss: 0.3813 - val_acc: 0.7901\n",
      "Epoch 24/100\n",
      "34176/34176 [==============================] - 2s 47us/step - loss: 0.3331 - acc: 0.8283 - val_loss: 0.4412 - val_acc: 0.7872\n",
      "Epoch 25/100\n",
      "34176/34176 [==============================] - 2s 47us/step - loss: 0.3324 - acc: 0.8283 - val_loss: 0.3947 - val_acc: 0.7926\n",
      "Epoch 26/100\n",
      "34176/34176 [==============================] - 2s 46us/step - loss: 0.3303 - acc: 0.8298 - val_loss: 0.3605 - val_acc: 0.8102\n",
      "Epoch 27/100\n",
      "34176/34176 [==============================] - 2s 44us/step - loss: 0.3288 - acc: 0.8292 - val_loss: 0.3599 - val_acc: 0.8341\n",
      "Epoch 28/100\n",
      "34176/34176 [==============================] - 2s 52us/step - loss: 0.3275 - acc: 0.8303 - val_loss: 0.4317 - val_acc: 0.7774\n",
      "Epoch 29/100\n",
      "34176/34176 [==============================] - 1s 43us/step - loss: 0.3257 - acc: 0.8315 - val_loss: 0.4285 - val_acc: 0.7804\n",
      "Epoch 30/100\n",
      "34176/34176 [==============================] - 2s 56us/step - loss: 0.3237 - acc: 0.8314 - val_loss: 0.4268 - val_acc: 0.7930\n",
      "Epoch 31/100\n",
      "34176/34176 [==============================] - 1s 41us/step - loss: 0.3242 - acc: 0.8337 - val_loss: 0.4036 - val_acc: 0.8162\n",
      "Epoch 32/100\n",
      "34176/34176 [==============================] - 1s 43us/step - loss: 0.3221 - acc: 0.8335 - val_loss: 0.4328 - val_acc: 0.7807\n",
      "Epoch 33/100\n",
      "34176/34176 [==============================] - 1s 44us/step - loss: 0.3203 - acc: 0.8347 - val_loss: 0.4009 - val_acc: 0.8093\n",
      "Epoch 34/100\n",
      "34176/34176 [==============================] - 2s 46us/step - loss: 0.3187 - acc: 0.8358 - val_loss: 0.4306 - val_acc: 0.7755\n",
      "Epoch 35/100\n",
      "34176/34176 [==============================] - 1s 44us/step - loss: 0.3174 - acc: 0.8359 - val_loss: 0.4354 - val_acc: 0.8009\n",
      "Epoch 36/100\n",
      "34176/34176 [==============================] - 2s 46us/step - loss: 0.3165 - acc: 0.8361 - val_loss: 0.4498 - val_acc: 0.7748\n",
      "Epoch 37/100\n",
      "34176/34176 [==============================] - 2s 59us/step - loss: 0.3153 - acc: 0.8362 - val_loss: 0.3891 - val_acc: 0.7968\n",
      "Epoch 38/100\n",
      "34176/34176 [==============================] - 2s 50us/step - loss: 0.3145 - acc: 0.8368 - val_loss: 0.4261 - val_acc: 0.7892\n",
      "Epoch 39/100\n",
      "34176/34176 [==============================] - 2s 55us/step - loss: 0.3139 - acc: 0.8377 - val_loss: 0.4250 - val_acc: 0.7899\n",
      "Epoch 40/100\n",
      "34176/34176 [==============================] - 2s 51us/step - loss: 0.3115 - acc: 0.8381 - val_loss: 0.4916 - val_acc: 0.7743\n",
      "Epoch 41/100\n",
      "34176/34176 [==============================] - 2s 45us/step - loss: 0.3098 - acc: 0.8386 - val_loss: 0.4489 - val_acc: 0.7955\n",
      "Epoch 42/100\n",
      "34176/34176 [==============================] - 2s 47us/step - loss: 0.3095 - acc: 0.8398 - val_loss: 0.4360 - val_acc: 0.7988\n",
      "Epoch 43/100\n",
      "34176/34176 [==============================] - 2s 46us/step - loss: 0.3070 - acc: 0.8414 - val_loss: 0.4581 - val_acc: 0.7913\n",
      "Epoch 44/100\n",
      "34176/34176 [==============================] - 2s 51us/step - loss: 0.3066 - acc: 0.8408 - val_loss: 0.4715 - val_acc: 0.7987\n",
      "Epoch 45/100\n",
      "34176/34176 [==============================] - 2s 55us/step - loss: 0.3066 - acc: 0.8403 - val_loss: 0.4398 - val_acc: 0.7906\n",
      "Epoch 46/100\n",
      "34176/34176 [==============================] - 2s 53us/step - loss: 0.3043 - acc: 0.8417 - val_loss: 0.5046 - val_acc: 0.7810\n",
      "Epoch 47/100\n",
      "34176/34176 [==============================] - 2s 51us/step - loss: 0.3070 - acc: 0.8391 - val_loss: 0.5032 - val_acc: 0.7763\n",
      "Epoch 48/100\n",
      "34176/34176 [==============================] - 2s 53us/step - loss: 0.3029 - acc: 0.8425 - val_loss: 0.4427 - val_acc: 0.7965\n",
      "Epoch 49/100\n",
      "34176/34176 [==============================] - 2s 47us/step - loss: 0.3007 - acc: 0.8433 - val_loss: 0.4982 - val_acc: 0.7774\n",
      "Epoch 50/100\n",
      "34176/34176 [==============================] - 2s 48us/step - loss: 0.3022 - acc: 0.8430 - val_loss: 0.4815 - val_acc: 0.7972\n",
      "Epoch 51/100\n",
      "34176/34176 [==============================] - 2s 49us/step - loss: 0.3014 - acc: 0.8433 - val_loss: 0.4697 - val_acc: 0.7846\n",
      "Epoch 52/100\n",
      "34176/34176 [==============================] - 1s 44us/step - loss: 0.2980 - acc: 0.8442 - val_loss: 0.4872 - val_acc: 0.7914\n",
      "Epoch 53/100\n",
      "34176/34176 [==============================] - 1s 43us/step - loss: 0.2965 - acc: 0.8464 - val_loss: 0.4992 - val_acc: 0.7899\n",
      "Epoch 54/100\n",
      "34176/34176 [==============================] - 2s 44us/step - loss: 0.2987 - acc: 0.8450 - val_loss: 0.5258 - val_acc: 0.7837\n",
      "Epoch 55/100\n",
      "34176/34176 [==============================] - 2s 50us/step - loss: 0.2965 - acc: 0.8459 - val_loss: 0.4834 - val_acc: 0.7876\n",
      "Epoch 56/100\n",
      "34176/34176 [==============================] - 2s 49us/step - loss: 0.2933 - acc: 0.8478 - val_loss: 0.5619 - val_acc: 0.7717\n",
      "Epoch 57/100\n",
      "34176/34176 [==============================] - 2s 48us/step - loss: 0.2931 - acc: 0.8464 - val_loss: 0.4983 - val_acc: 0.8196\n",
      "Epoch 58/100\n",
      "34176/34176 [==============================] - 2s 48us/step - loss: 0.2913 - acc: 0.8475 - val_loss: 0.5242 - val_acc: 0.7895\n",
      "Epoch 59/100\n",
      "34176/34176 [==============================] - 2s 48us/step - loss: 0.2952 - acc: 0.8466 - val_loss: 0.5017 - val_acc: 0.7840\n",
      "Epoch 60/100\n",
      "34176/34176 [==============================] - 2s 50us/step - loss: 0.2922 - acc: 0.8475 - val_loss: 0.5062 - val_acc: 0.8103\n",
      "Epoch 61/100\n",
      "34176/34176 [==============================] - 2s 47us/step - loss: 0.2921 - acc: 0.8490 - val_loss: 0.5028 - val_acc: 0.7967\n",
      "Epoch 62/100\n",
      "34176/34176 [==============================] - 2s 53us/step - loss: 0.2901 - acc: 0.8480 - val_loss: 0.5174 - val_acc: 0.8017\n",
      "Epoch 63/100\n",
      "34176/34176 [==============================] - 2s 50us/step - loss: 0.2889 - acc: 0.8485 - val_loss: 0.5096 - val_acc: 0.7849\n",
      "Epoch 64/100\n",
      "34176/34176 [==============================] - 2s 50us/step - loss: 0.2918 - acc: 0.8482 - val_loss: 0.5298 - val_acc: 0.7767\n",
      "Epoch 65/100\n",
      "34176/34176 [==============================] - 2s 47us/step - loss: 0.2866 - acc: 0.8504 - val_loss: 0.4784 - val_acc: 0.7988\n",
      "Epoch 66/100\n",
      "34176/34176 [==============================] - 2s 46us/step - loss: 0.2827 - acc: 0.8531 - val_loss: 0.5300 - val_acc: 0.7907\n",
      "Epoch 67/100\n",
      "34176/34176 [==============================] - 2s 49us/step - loss: 0.2866 - acc: 0.8514 - val_loss: 0.5358 - val_acc: 0.8000\n",
      "Epoch 68/100\n",
      "34176/34176 [==============================] - 2s 55us/step - loss: 0.2889 - acc: 0.8497 - val_loss: 0.4871 - val_acc: 0.8049\n",
      "Epoch 69/100\n",
      "34176/34176 [==============================] - 2s 51us/step - loss: 0.2903 - acc: 0.8507 - val_loss: 0.5913 - val_acc: 0.7952\n",
      "Epoch 70/100\n",
      "34176/34176 [==============================] - 2s 49us/step - loss: 0.2964 - acc: 0.8478 - val_loss: 0.5311 - val_acc: 0.8068\n",
      "Epoch 71/100\n",
      "34176/34176 [==============================] - 2s 57us/step - loss: 0.2920 - acc: 0.8508 - val_loss: 0.5659 - val_acc: 0.7909\n",
      "Epoch 72/100\n",
      "34176/34176 [==============================] - 2s 49us/step - loss: 0.2855 - acc: 0.8523 - val_loss: 0.5777 - val_acc: 0.7837\n",
      "Epoch 73/100\n",
      "34176/34176 [==============================] - 2s 49us/step - loss: 0.2848 - acc: 0.8522 - val_loss: 0.6010 - val_acc: 0.7774\n",
      "Epoch 74/100\n",
      "34176/34176 [==============================] - 2s 50us/step - loss: 0.2811 - acc: 0.8532 - val_loss: 0.5372 - val_acc: 0.8036\n",
      "Epoch 75/100\n",
      "34176/34176 [==============================] - 2s 56us/step - loss: 0.2780 - acc: 0.8545 - val_loss: 0.5523 - val_acc: 0.8002\n",
      "Epoch 76/100\n",
      "34176/34176 [==============================] - 2s 44us/step - loss: 0.2777 - acc: 0.8552 - val_loss: 0.6388 - val_acc: 0.7824\n",
      "Epoch 77/100\n",
      "34176/34176 [==============================] - 2s 50us/step - loss: 0.2807 - acc: 0.8545 - val_loss: 0.5812 - val_acc: 0.7871\n",
      "Epoch 78/100\n",
      "34176/34176 [==============================] - 1s 43us/step - loss: 0.2762 - acc: 0.8564 - val_loss: 0.5583 - val_acc: 0.7929\n",
      "Epoch 79/100\n",
      "34176/34176 [==============================] - 2s 49us/step - loss: 0.2792 - acc: 0.8544 - val_loss: 0.5923 - val_acc: 0.7840\n",
      "Epoch 80/100\n",
      "34176/34176 [==============================] - 1s 43us/step - loss: 0.2781 - acc: 0.8552 - val_loss: 0.5655 - val_acc: 0.7992\n",
      "Epoch 81/100\n",
      "34176/34176 [==============================] - 1s 42us/step - loss: 0.2767 - acc: 0.8567 - val_loss: 0.5983 - val_acc: 0.7852\n",
      "Epoch 82/100\n",
      "34176/34176 [==============================] - 1s 43us/step - loss: 0.2756 - acc: 0.8564 - val_loss: 0.5975 - val_acc: 0.7840\n",
      "Epoch 83/100\n",
      "34176/34176 [==============================] - 1s 42us/step - loss: 0.2753 - acc: 0.8580 - val_loss: 0.5831 - val_acc: 0.7793\n",
      "Epoch 84/100\n",
      "34176/34176 [==============================] - 1s 42us/step - loss: 0.2857 - acc: 0.8537 - val_loss: 0.5576 - val_acc: 0.7943\n",
      "Epoch 85/100\n",
      "34176/34176 [==============================] - 1s 42us/step - loss: 0.2770 - acc: 0.8575 - val_loss: 0.5407 - val_acc: 0.7954\n",
      "Epoch 86/100\n",
      "34176/34176 [==============================] - 1s 41us/step - loss: 0.2730 - acc: 0.8582 - val_loss: 0.6079 - val_acc: 0.7911\n",
      "Epoch 87/100\n",
      "34176/34176 [==============================] - 2s 50us/step - loss: 0.2737 - acc: 0.8596 - val_loss: 0.6211 - val_acc: 0.7976\n",
      "Epoch 88/100\n",
      "34176/34176 [==============================] - 2s 47us/step - loss: 0.2800 - acc: 0.8568 - val_loss: 0.5152 - val_acc: 0.8014\n",
      "Epoch 89/100\n",
      "34176/34176 [==============================] - 2s 49us/step - loss: 0.2774 - acc: 0.8571 - val_loss: 0.5798 - val_acc: 0.7843\n",
      "Epoch 90/100\n",
      "34176/34176 [==============================] - 2s 48us/step - loss: 0.2750 - acc: 0.8572 - val_loss: 0.5940 - val_acc: 0.7813\n",
      "Epoch 91/100\n",
      "34176/34176 [==============================] - 2s 44us/step - loss: 0.2687 - acc: 0.8605 - val_loss: 0.6077 - val_acc: 0.7833\n",
      "Epoch 92/100\n",
      "34176/34176 [==============================] - 2s 47us/step - loss: 0.2682 - acc: 0.8612 - val_loss: 0.5714 - val_acc: 0.8005\n",
      "Epoch 93/100\n",
      "34176/34176 [==============================] - 2s 48us/step - loss: 0.2651 - acc: 0.8625 - val_loss: 0.6013 - val_acc: 0.7896\n",
      "Epoch 94/100\n",
      "34176/34176 [==============================] - 2s 52us/step - loss: 0.2654 - acc: 0.8614 - val_loss: 0.6226 - val_acc: 0.7804\n",
      "Epoch 95/100\n",
      "34176/34176 [==============================] - 1s 42us/step - loss: 0.2695 - acc: 0.8612 - val_loss: 0.6202 - val_acc: 0.7931\n",
      "Epoch 96/100\n",
      "34176/34176 [==============================] - 1s 43us/step - loss: 0.2701 - acc: 0.8608 - val_loss: 0.5949 - val_acc: 0.8012\n",
      "Epoch 97/100\n",
      "34176/34176 [==============================] - 1s 42us/step - loss: 0.2687 - acc: 0.8610 - val_loss: 0.6137 - val_acc: 0.7778\n",
      "Epoch 98/100\n",
      "34176/34176 [==============================] - 1s 42us/step - loss: 0.2692 - acc: 0.8599 - val_loss: 0.5720 - val_acc: 0.7971\n",
      "Epoch 99/100\n",
      "34176/34176 [==============================] - 1s 43us/step - loss: 0.2660 - acc: 0.8618 - val_loss: 0.6021 - val_acc: 0.7905\n",
      "Epoch 100/100\n",
      "34176/34176 [==============================] - 1s 41us/step - loss: 0.2671 - acc: 0.8626 - val_loss: 0.5818 - val_acc: 0.8015\n"
     ]
    },
    {
     "data": {
      "text/plain": [
       "<keras.callbacks.History at 0x14b170150>"
      ]
     },
     "execution_count": 479,
     "metadata": {},
     "output_type": "execute_result"
    }
   ],
   "source": [
    "model.fit(full_train_data_x, full_train_data_y, epochs=100, batch_size=152,validation_data=(test_data_x_new, test_y_new))"
   ]
  },
  {
   "cell_type": "code",
   "execution_count": 541,
   "metadata": {
    "collapsed": true
   },
   "outputs": [],
   "source": [
    "model= Sequential()"
   ]
  },
  {
   "cell_type": "code",
   "execution_count": 542,
   "metadata": {
    "collapsed": true
   },
   "outputs": [],
   "source": [
    "model.add(Dense(100, input_dim=77, activation='relu'))\n",
    "model.add(Dense(80, activation='relu'))\n",
    "# model.add(Dense(90, activation='relu'))\n",
    "model.add(Dense(1, activation='sigmoid'))"
   ]
  },
  {
   "cell_type": "code",
   "execution_count": 543,
   "metadata": {
    "collapsed": true
   },
   "outputs": [],
   "source": [
    "model.compile(loss='binary_crossentropy', optimizer='adam', metrics=['accuracy'])"
   ]
  },
  {
   "cell_type": "code",
   "execution_count": 544,
   "metadata": {},
   "outputs": [
    {
     "name": "stdout",
     "output_type": "stream",
     "text": [
      "Train on 34176 samples, validate on 34415 samples\n",
      "Epoch 1/100\n",
      "34176/34176 [==============================] - 4s 113us/step - loss: 0.4121 - acc: 0.7894 - val_loss: 0.3485 - val_acc: 0.8144\n",
      "Epoch 2/100\n",
      "34176/34176 [==============================] - 1s 30us/step - loss: 0.3794 - acc: 0.8069 - val_loss: 0.3630 - val_acc: 0.8326\n",
      "Epoch 3/100\n",
      "34176/34176 [==============================] - 1s 32us/step - loss: 0.3737 - acc: 0.8091 - val_loss: 0.3844 - val_acc: 0.7827\n",
      "Epoch 4/100\n",
      "34176/34176 [==============================] - 1s 30us/step - loss: 0.3708 - acc: 0.8110 - val_loss: 0.3702 - val_acc: 0.7898\n",
      "Epoch 5/100\n",
      "34176/34176 [==============================] - 1s 35us/step - loss: 0.3671 - acc: 0.8129 - val_loss: 0.3814 - val_acc: 0.8042\n",
      "Epoch 6/100\n",
      "34176/34176 [==============================] - 1s 40us/step - loss: 0.3659 - acc: 0.8129 - val_loss: 0.3687 - val_acc: 0.7997\n",
      "Epoch 7/100\n",
      "34176/34176 [==============================] - 1s 32us/step - loss: 0.3645 - acc: 0.8145 - val_loss: 0.3743 - val_acc: 0.7996\n",
      "Epoch 8/100\n",
      "34176/34176 [==============================] - 1s 33us/step - loss: 0.3629 - acc: 0.8166 - val_loss: 0.3822 - val_acc: 0.7920\n",
      "Epoch 9/100\n",
      "34176/34176 [==============================] - 1s 30us/step - loss: 0.3623 - acc: 0.8146 - val_loss: 0.3494 - val_acc: 0.8395\n",
      "Epoch 10/100\n",
      "34176/34176 [==============================] - 1s 29us/step - loss: 0.3612 - acc: 0.8176 - val_loss: 0.3316 - val_acc: 0.8502\n",
      "Epoch 11/100\n",
      "34176/34176 [==============================] - 1s 33us/step - loss: 0.3590 - acc: 0.8174 - val_loss: 0.3651 - val_acc: 0.8032\n",
      "Epoch 12/100\n",
      "34176/34176 [==============================] - 1s 40us/step - loss: 0.3585 - acc: 0.8185 - val_loss: 0.3511 - val_acc: 0.8097\n",
      "Epoch 13/100\n",
      "34176/34176 [==============================] - 1s 39us/step - loss: 0.3581 - acc: 0.8177 - val_loss: 0.3796 - val_acc: 0.7966\n",
      "Epoch 14/100\n",
      "34176/34176 [==============================] - 1s 37us/step - loss: 0.3576 - acc: 0.8188 - val_loss: 0.3669 - val_acc: 0.7951\n",
      "Epoch 15/100\n",
      "34176/34176 [==============================] - 1s 28us/step - loss: 0.3564 - acc: 0.8187 - val_loss: 0.3600 - val_acc: 0.8009\n",
      "Epoch 16/100\n",
      "34176/34176 [==============================] - 1s 27us/step - loss: 0.3550 - acc: 0.8198 - val_loss: 0.3772 - val_acc: 0.7930\n",
      "Epoch 17/100\n",
      "34176/34176 [==============================] - 1s 27us/step - loss: 0.3540 - acc: 0.8200 - val_loss: 0.3268 - val_acc: 0.8322\n",
      "Epoch 18/100\n",
      "34176/34176 [==============================] - 1s 28us/step - loss: 0.3532 - acc: 0.8225 - val_loss: 0.3618 - val_acc: 0.8021\n",
      "Epoch 19/100\n",
      "34176/34176 [==============================] - 1s 27us/step - loss: 0.3534 - acc: 0.8193 - val_loss: 0.3789 - val_acc: 0.7904\n",
      "Epoch 20/100\n",
      "34176/34176 [==============================] - 1s 28us/step - loss: 0.3523 - acc: 0.8208 - val_loss: 0.3625 - val_acc: 0.8067\n",
      "Epoch 21/100\n",
      "34176/34176 [==============================] - 1s 27us/step - loss: 0.3512 - acc: 0.8215 - val_loss: 0.3526 - val_acc: 0.8097\n",
      "Epoch 22/100\n",
      "34176/34176 [==============================] - 1s 28us/step - loss: 0.3507 - acc: 0.8215 - val_loss: 0.3771 - val_acc: 0.7902\n",
      "Epoch 23/100\n",
      "34176/34176 [==============================] - 1s 28us/step - loss: 0.3502 - acc: 0.8213 - val_loss: 0.4082 - val_acc: 0.7738\n",
      "Epoch 24/100\n",
      "34176/34176 [==============================] - 1s 27us/step - loss: 0.3497 - acc: 0.8232 - val_loss: 0.3913 - val_acc: 0.7776\n",
      "Epoch 25/100\n",
      "34176/34176 [==============================] - 1s 28us/step - loss: 0.3487 - acc: 0.8227 - val_loss: 0.3806 - val_acc: 0.7821\n",
      "Epoch 26/100\n",
      "34176/34176 [==============================] - 1s 27us/step - loss: 0.3489 - acc: 0.8208 - val_loss: 0.3616 - val_acc: 0.8111\n",
      "Epoch 27/100\n",
      "34176/34176 [==============================] - 1s 27us/step - loss: 0.3480 - acc: 0.8238 - val_loss: 0.3612 - val_acc: 0.8169\n",
      "Epoch 28/100\n",
      "34176/34176 [==============================] - 1s 27us/step - loss: 0.3469 - acc: 0.8232 - val_loss: 0.3436 - val_acc: 0.8215\n",
      "Epoch 29/100\n",
      "34176/34176 [==============================] - 1s 27us/step - loss: 0.3459 - acc: 0.8253 - val_loss: 0.3438 - val_acc: 0.8266\n",
      "Epoch 30/100\n",
      "34176/34176 [==============================] - 1s 28us/step - loss: 0.3448 - acc: 0.8254 - val_loss: 0.3427 - val_acc: 0.8164\n",
      "Epoch 31/100\n",
      "34176/34176 [==============================] - 1s 27us/step - loss: 0.3459 - acc: 0.8233 - val_loss: 0.3919 - val_acc: 0.7881\n",
      "Epoch 32/100\n",
      "34176/34176 [==============================] - 1s 28us/step - loss: 0.3438 - acc: 0.8253 - val_loss: 0.3648 - val_acc: 0.8120\n",
      "Epoch 33/100\n",
      "34176/34176 [==============================] - 1s 27us/step - loss: 0.3435 - acc: 0.8254 - val_loss: 0.3672 - val_acc: 0.8074\n",
      "Epoch 34/100\n",
      "34176/34176 [==============================] - 1s 27us/step - loss: 0.3428 - acc: 0.8260 - val_loss: 0.3597 - val_acc: 0.8034\n",
      "Epoch 35/100\n",
      "34176/34176 [==============================] - 1s 27us/step - loss: 0.3422 - acc: 0.8259 - val_loss: 0.4298 - val_acc: 0.7640\n",
      "Epoch 36/100\n",
      "34176/34176 [==============================] - 1s 27us/step - loss: 0.3417 - acc: 0.8260 - val_loss: 0.3731 - val_acc: 0.8053\n",
      "Epoch 37/100\n",
      "34176/34176 [==============================] - 1s 30us/step - loss: 0.3409 - acc: 0.8258 - val_loss: 0.3554 - val_acc: 0.8049\n",
      "Epoch 38/100\n",
      "34176/34176 [==============================] - 1s 35us/step - loss: 0.3397 - acc: 0.8271 - val_loss: 0.3963 - val_acc: 0.7871\n",
      "Epoch 39/100\n",
      "34176/34176 [==============================] - 1s 39us/step - loss: 0.3396 - acc: 0.8271 - val_loss: 0.3372 - val_acc: 0.8239\n",
      "Epoch 40/100\n",
      "34176/34176 [==============================] - 1s 36us/step - loss: 0.3391 - acc: 0.8269 - val_loss: 0.3902 - val_acc: 0.7988\n",
      "Epoch 41/100\n",
      "34176/34176 [==============================] - 1s 40us/step - loss: 0.3374 - acc: 0.8283 - val_loss: 0.3538 - val_acc: 0.8092\n",
      "Epoch 42/100\n",
      "34176/34176 [==============================] - 1s 39us/step - loss: 0.3374 - acc: 0.8275 - val_loss: 0.3686 - val_acc: 0.8037\n",
      "Epoch 43/100\n",
      "34176/34176 [==============================] - 1s 42us/step - loss: 0.3360 - acc: 0.8289 - val_loss: 0.3749 - val_acc: 0.8094\n",
      "Epoch 44/100\n",
      "34176/34176 [==============================] - 1s 31us/step - loss: 0.3359 - acc: 0.8299 - val_loss: 0.3344 - val_acc: 0.8316\n",
      "Epoch 45/100\n",
      "34176/34176 [==============================] - 1s 40us/step - loss: 0.3345 - acc: 0.8290 - val_loss: 0.3596 - val_acc: 0.8161\n",
      "Epoch 46/100\n",
      "34176/34176 [==============================] - 1s 35us/step - loss: 0.3345 - acc: 0.8306 - val_loss: 0.3709 - val_acc: 0.8138\n",
      "Epoch 47/100\n",
      "34176/34176 [==============================] - 1s 37us/step - loss: 0.3342 - acc: 0.8294 - val_loss: 0.3720 - val_acc: 0.8125\n",
      "Epoch 48/100\n",
      "34176/34176 [==============================] - 1s 36us/step - loss: 0.3335 - acc: 0.8306 - val_loss: 0.3496 - val_acc: 0.8210\n",
      "Epoch 49/100\n",
      "34176/34176 [==============================] - 1s 32us/step - loss: 0.3328 - acc: 0.8286 - val_loss: 0.3656 - val_acc: 0.8161\n",
      "Epoch 50/100\n",
      "34176/34176 [==============================] - 1s 35us/step - loss: 0.3324 - acc: 0.8321 - val_loss: 0.3626 - val_acc: 0.8135\n",
      "Epoch 51/100\n",
      "34176/34176 [==============================] - 1s 32us/step - loss: 0.3315 - acc: 0.8317 - val_loss: 0.3749 - val_acc: 0.8073\n",
      "Epoch 52/100\n",
      "34176/34176 [==============================] - 1s 35us/step - loss: 0.3310 - acc: 0.8305 - val_loss: 0.3691 - val_acc: 0.8229\n",
      "Epoch 53/100\n",
      "34176/34176 [==============================] - 1s 39us/step - loss: 0.3300 - acc: 0.8319 - val_loss: 0.4159 - val_acc: 0.7913\n",
      "Epoch 54/100\n",
      "34176/34176 [==============================] - 1s 36us/step - loss: 0.3312 - acc: 0.8306 - val_loss: 0.3998 - val_acc: 0.7867\n",
      "Epoch 55/100\n",
      "34176/34176 [==============================] - 1s 32us/step - loss: 0.3300 - acc: 0.8309 - val_loss: 0.4107 - val_acc: 0.7846\n",
      "Epoch 56/100\n",
      "34176/34176 [==============================] - 1s 31us/step - loss: 0.3292 - acc: 0.8311 - val_loss: 0.3809 - val_acc: 0.8059\n",
      "Epoch 57/100\n",
      "34176/34176 [==============================] - 1s 34us/step - loss: 0.3282 - acc: 0.8333 - val_loss: 0.3443 - val_acc: 0.8203\n",
      "Epoch 58/100\n",
      "34176/34176 [==============================] - 1s 37us/step - loss: 0.3288 - acc: 0.8323 - val_loss: 0.3927 - val_acc: 0.7900\n",
      "Epoch 59/100\n",
      "34176/34176 [==============================] - 1s 35us/step - loss: 0.3266 - acc: 0.8322 - val_loss: 0.3580 - val_acc: 0.8123\n",
      "Epoch 60/100\n",
      "34176/34176 [==============================] - 1s 35us/step - loss: 0.3270 - acc: 0.8348 - val_loss: 0.3902 - val_acc: 0.7888\n",
      "Epoch 61/100\n",
      "34176/34176 [==============================] - 1s 36us/step - loss: 0.3254 - acc: 0.8327 - val_loss: 0.3661 - val_acc: 0.8059\n",
      "Epoch 62/100\n",
      "34176/34176 [==============================] - 1s 35us/step - loss: 0.3259 - acc: 0.8341 - val_loss: 0.3641 - val_acc: 0.8062\n",
      "Epoch 63/100\n",
      "34176/34176 [==============================] - 1s 35us/step - loss: 0.3253 - acc: 0.8339 - val_loss: 0.4282 - val_acc: 0.7635\n",
      "Epoch 64/100\n",
      "34176/34176 [==============================] - 1s 36us/step - loss: 0.3249 - acc: 0.8351 - val_loss: 0.3708 - val_acc: 0.7995\n",
      "Epoch 65/100\n",
      "34176/34176 [==============================] - 1s 36us/step - loss: 0.3246 - acc: 0.8336 - val_loss: 0.3781 - val_acc: 0.8071\n",
      "Epoch 66/100\n",
      "34176/34176 [==============================] - 1s 32us/step - loss: 0.3237 - acc: 0.8349 - val_loss: 0.3647 - val_acc: 0.8187\n",
      "Epoch 67/100\n",
      "34176/34176 [==============================] - 1s 36us/step - loss: 0.3237 - acc: 0.8325 - val_loss: 0.3768 - val_acc: 0.8050\n",
      "Epoch 68/100\n",
      "34176/34176 [==============================] - 1s 35us/step - loss: 0.3231 - acc: 0.8349 - val_loss: 0.3943 - val_acc: 0.7979\n",
      "Epoch 69/100\n",
      "34176/34176 [==============================] - 1s 34us/step - loss: 0.3227 - acc: 0.8350 - val_loss: 0.4450 - val_acc: 0.7613\n",
      "Epoch 70/100\n",
      "34176/34176 [==============================] - 1s 36us/step - loss: 0.3220 - acc: 0.8356 - val_loss: 0.3930 - val_acc: 0.8026\n",
      "Epoch 71/100\n",
      "34176/34176 [==============================] - 1s 38us/step - loss: 0.3217 - acc: 0.8361 - val_loss: 0.4264 - val_acc: 0.7696\n",
      "Epoch 72/100\n",
      "34176/34176 [==============================] - 1s 34us/step - loss: 0.3208 - acc: 0.8348 - val_loss: 0.3733 - val_acc: 0.8114\n",
      "Epoch 73/100\n",
      "34176/34176 [==============================] - 1s 36us/step - loss: 0.3208 - acc: 0.8374 - val_loss: 0.4004 - val_acc: 0.7713\n",
      "Epoch 74/100\n",
      "34176/34176 [==============================] - 1s 37us/step - loss: 0.3207 - acc: 0.8368 - val_loss: 0.3884 - val_acc: 0.8062\n",
      "Epoch 75/100\n",
      "34176/34176 [==============================] - 1s 37us/step - loss: 0.3195 - acc: 0.8361 - val_loss: 0.3921 - val_acc: 0.7964\n",
      "Epoch 76/100\n",
      "34176/34176 [==============================] - 1s 39us/step - loss: 0.3199 - acc: 0.8359 - val_loss: 0.3693 - val_acc: 0.8127\n",
      "Epoch 77/100\n",
      "34176/34176 [==============================] - 1s 35us/step - loss: 0.3191 - acc: 0.8368 - val_loss: 0.3530 - val_acc: 0.8226\n",
      "Epoch 78/100\n",
      "34176/34176 [==============================] - 1s 37us/step - loss: 0.3184 - acc: 0.8364 - val_loss: 0.4009 - val_acc: 0.7884\n",
      "Epoch 79/100\n",
      "34176/34176 [==============================] - 1s 35us/step - loss: 0.3181 - acc: 0.8370 - val_loss: 0.3975 - val_acc: 0.7949\n",
      "Epoch 80/100\n",
      "34176/34176 [==============================] - 1s 36us/step - loss: 0.3177 - acc: 0.8368 - val_loss: 0.4022 - val_acc: 0.7958\n",
      "Epoch 81/100\n",
      "34176/34176 [==============================] - 1s 36us/step - loss: 0.3184 - acc: 0.8380 - val_loss: 0.4092 - val_acc: 0.7991\n",
      "Epoch 82/100\n",
      "34176/34176 [==============================] - 2s 47us/step - loss: 0.3174 - acc: 0.8384 - val_loss: 0.3833 - val_acc: 0.8078\n",
      "Epoch 83/100\n",
      "34176/34176 [==============================] - 1s 38us/step - loss: 0.3163 - acc: 0.8385 - val_loss: 0.3766 - val_acc: 0.8100\n",
      "Epoch 84/100\n",
      "34176/34176 [==============================] - 1s 36us/step - loss: 0.3166 - acc: 0.8386 - val_loss: 0.4024 - val_acc: 0.8014\n",
      "Epoch 85/100\n",
      "34176/34176 [==============================] - 1s 35us/step - loss: 0.3158 - acc: 0.8389 - val_loss: 0.3732 - val_acc: 0.8258\n",
      "Epoch 86/100\n",
      "34176/34176 [==============================] - 1s 37us/step - loss: 0.3153 - acc: 0.8381 - val_loss: 0.3797 - val_acc: 0.8090\n",
      "Epoch 87/100\n",
      "34176/34176 [==============================] - 1s 37us/step - loss: 0.3144 - acc: 0.8395 - val_loss: 0.4010 - val_acc: 0.7997\n",
      "Epoch 88/100\n",
      "34176/34176 [==============================] - 1s 36us/step - loss: 0.3146 - acc: 0.8388 - val_loss: 0.3861 - val_acc: 0.7943\n",
      "Epoch 89/100\n",
      "34176/34176 [==============================] - 1s 35us/step - loss: 0.3142 - acc: 0.8396 - val_loss: 0.4031 - val_acc: 0.7858\n",
      "Epoch 90/100\n",
      "34176/34176 [==============================] - 1s 42us/step - loss: 0.3138 - acc: 0.8405 - val_loss: 0.3968 - val_acc: 0.7981\n",
      "Epoch 91/100\n",
      "34176/34176 [==============================] - 1s 38us/step - loss: 0.3127 - acc: 0.8411 - val_loss: 0.4230 - val_acc: 0.7938\n",
      "Epoch 92/100\n",
      "34176/34176 [==============================] - 1s 37us/step - loss: 0.3127 - acc: 0.8410 - val_loss: 0.4064 - val_acc: 0.7989\n",
      "Epoch 93/100\n",
      "34176/34176 [==============================] - 1s 36us/step - loss: 0.3129 - acc: 0.8393 - val_loss: 0.4229 - val_acc: 0.7895\n",
      "Epoch 94/100\n",
      "34176/34176 [==============================] - 1s 36us/step - loss: 0.3123 - acc: 0.8407 - val_loss: 0.3836 - val_acc: 0.8163\n",
      "Epoch 95/100\n",
      "34176/34176 [==============================] - 1s 39us/step - loss: 0.3116 - acc: 0.8403 - val_loss: 0.4368 - val_acc: 0.7762\n",
      "Epoch 96/100\n",
      "34176/34176 [==============================] - 2s 50us/step - loss: 0.3127 - acc: 0.8387 - val_loss: 0.4201 - val_acc: 0.7978\n",
      "Epoch 97/100\n",
      "34176/34176 [==============================] - 1s 38us/step - loss: 0.3120 - acc: 0.8386 - val_loss: 0.4131 - val_acc: 0.7956\n",
      "Epoch 98/100\n",
      "34176/34176 [==============================] - 1s 38us/step - loss: 0.3111 - acc: 0.8410 - val_loss: 0.4225 - val_acc: 0.7899\n",
      "Epoch 99/100\n",
      "34176/34176 [==============================] - 1s 36us/step - loss: 0.3103 - acc: 0.8397 - val_loss: 0.4705 - val_acc: 0.7686\n",
      "Epoch 100/100\n",
      "34176/34176 [==============================] - 1s 36us/step - loss: 0.3107 - acc: 0.8409 - val_loss: 0.3851 - val_acc: 0.8290\n"
     ]
    },
    {
     "data": {
      "text/plain": [
       "<keras.callbacks.History at 0x160331950>"
      ]
     },
     "execution_count": 544,
     "metadata": {},
     "output_type": "execute_result"
    }
   ],
   "source": [
    "model.fit(full_train_data_x, full_train_data_y, epochs=100, batch_size=152,validation_data=(test_data_x_new, test_y_new))"
   ]
  },
  {
   "cell_type": "code",
   "execution_count": 550,
   "metadata": {
    "collapsed": true
   },
   "outputs": [],
   "source": [
    "predict_y=model.predict(test_data_x_new)"
   ]
  },
  {
   "cell_type": "code",
   "execution_count": 553,
   "metadata": {
    "collapsed": true
   },
   "outputs": [],
   "source": [
    "rounded = [round(x[0]) for x in predict_y]"
   ]
  },
  {
   "cell_type": "code",
   "execution_count": 556,
   "metadata": {
    "collapsed": true
   },
   "outputs": [],
   "source": [
    "predictions=[]\n",
    "for i in rounded:\n",
    "    i=int(i)\n",
    "    predictions.append(i)"
   ]
  },
  {
   "cell_type": "code",
   "execution_count": 577,
   "metadata": {
    "collapsed": true
   },
   "outputs": [],
   "source": [
    "predictions=np.array(predictions)"
   ]
  },
  {
   "cell_type": "code",
   "execution_count": 606,
   "metadata": {},
   "outputs": [
    {
     "data": {
      "text/plain": [
       "0.7867450561197221"
      ]
     },
     "execution_count": 606,
     "metadata": {},
     "output_type": "execute_result"
    }
   ],
   "source": [
    "label_0_test=test_y_new[test_y_new==0]\n",
    "label_pred_0_test_1=predictions[test_y_new==0]\n",
    "accuracy_score(label_0_test,label_pred_0_test_1)"
   ]
  },
  {
   "cell_type": "code",
   "execution_count": 603,
   "metadata": {
    "collapsed": true
   },
   "outputs": [],
   "source": [
    "predict_y_train=model.predict(full_train_data_x)\n",
    "rounded_train = [round(x[0]) for x in predict_y_train]\n",
    "predictions_train=[]\n",
    "for i in rounded_train:\n",
    "    i=int(i)\n",
    "    predictions_train.append(i)\n",
    "predictions_train=np.array(predictions_train)"
   ]
  },
  {
   "cell_type": "code",
   "execution_count": 604,
   "metadata": {},
   "outputs": [
    {
     "data": {
      "text/plain": [
       "0.8175912921348315"
      ]
     },
     "execution_count": 604,
     "metadata": {},
     "output_type": "execute_result"
    }
   ],
   "source": [
    "label_pred_0_1=predictions_train[full_train_data_y==0]\n",
    "label_0=full_train_data_y[full_train_data_y==0]\n",
    "accuracy_score(label_0, label_pred_0_1)"
   ]
  },
  {
   "cell_type": "code",
   "execution_count": 607,
   "metadata": {
    "collapsed": true
   },
   "outputs": [],
   "source": [
    "x_train = full_train_data_x.reshape(full_train_data_x.shape[0], 1, 7, 11)\n",
    "x_test = test_data_x_new.reshape(test_data_x_new.shape[0], 1, 7, 11)\n",
    "input_shape = ( 1, 7, 11)"
   ]
  },
  {
   "cell_type": "code",
   "execution_count": 618,
   "metadata": {
    "collapsed": true
   },
   "outputs": [],
   "source": [
    "y_train = np_utils.to_categorical(full_train_data_y,2)\n",
    "y_test = np_utils.to_categorical(test_y_new, 2)"
   ]
  },
  {
   "cell_type": "code",
   "execution_count": 610,
   "metadata": {},
   "outputs": [
    {
     "data": {
      "text/plain": [
       "array([[0., 1.],\n",
       "       [0., 1.],\n",
       "       [0., 1.],\n",
       "       ...,\n",
       "       [1., 0.],\n",
       "       [1., 0.],\n",
       "       [1., 0.]])"
      ]
     },
     "execution_count": 610,
     "metadata": {},
     "output_type": "execute_result"
    }
   ],
   "source": [
    "y_train"
   ]
  },
  {
   "cell_type": "code",
   "execution_count": 617,
   "metadata": {},
   "outputs": [
    {
     "name": "stderr",
     "output_type": "stream",
     "text": [
      "/Users/changxu/anaconda/envs/py2/lib/python2.7/site-packages/ipykernel_launcher.py:4: UserWarning: Update your `Conv2D` call to the Keras 2 API: `Conv2D(7, (2, 2), padding=\"same\", input_shape=(1, 7, 11))`\n",
      "  after removing the cwd from sys.path.\n",
      "/Users/changxu/anaconda/envs/py2/lib/python2.7/site-packages/ipykernel_launcher.py:12: UserWarning: Update your `Conv2D` call to the Keras 2 API: `Conv2D(14, (2, 2), padding=\"same\")`\n",
      "  if sys.path[0] == '':\n",
      "/Users/changxu/anaconda/envs/py2/lib/python2.7/site-packages/ipykernel_launcher.py:20: UserWarning: Update your `BatchNormalization` call to the Keras 2 API: `BatchNormalization(beta_regularizer=None, epsilon=0.001, beta_initializer=\"zero\", gamma_initializer=\"ones\", weights=None, gamma_regularizer=None, momentum=0.99, axis=-1)`\n",
      "/Users/changxu/anaconda/envs/py2/lib/python2.7/site-packages/ipykernel_launcher.py:22: UserWarning: Update your `BatchNormalization` call to the Keras 2 API: `BatchNormalization(beta_regularizer=None, epsilon=0.001, beta_initializer=\"zero\", gamma_initializer=\"ones\", weights=None, gamma_regularizer=None, momentum=0.99, axis=-1)`\n"
     ]
    }
   ],
   "source": [
    "model = Sequential()\n",
    "\n",
    "model.add(Convolution2D(7, 2, 2, border_mode='same', # 16 is the iput data size , 2, shift, 2, weight size\n",
    "                        input_shape= input_shape))\n",
    "model.add(Activation('relu'))\n",
    "\n",
    "# model.add(Convolution2D(7, 2, 2))\n",
    "# model.add(Activation('relu'))\n",
    "\n",
    "#model.add(MaxPooling2D(pool_size=(2, 2)))\n",
    "\n",
    "model.add(Convolution2D(14, 2, 2, border_mode='same'))\n",
    "model.add(Activation('relu'))\n",
    "# model.add(Convolution2D(14, 2, 2))\n",
    "# model.add(Activation('relu'))\n",
    "#model.add(MaxPooling2D(pool_size=(2, 2)))\n",
    "\n",
    "model.add(Flatten()) #vector\n",
    "\n",
    "model.add(BatchNormalization(epsilon=0.001, axis=-1, momentum=0.99, weights=None, beta_init='zero', gamma_init='ones', gamma_regularizer=None, beta_regularizer=None))\n",
    "model.add(Activation('relu'))\n",
    "model.add(BatchNormalization(epsilon=0.001, axis=-1, momentum=0.99, weights=None, beta_init='zero', gamma_init='ones', gamma_regularizer=None, beta_regularizer=None))\n",
    "model.add(Activation('relu')) \n",
    "\n",
    "model.add(Dense(128)) # fully connected layer\n",
    "model.add(Activation('relu'))\n",
    "model.add(Dropout(0.2)) #  drop units (data points)\n",
    "model.add(Dense(2)) #classifier\n",
    "model.add(Activation('softmax')) # probability \n",
    "\n",
    "model.compile(loss='categorical_crossentropy',\n",
    "              optimizer='adadelta', # sgd? \n",
    "              metrics=['accuracy'])"
   ]
  },
  {
   "cell_type": "code",
   "execution_count": 619,
   "metadata": {},
   "outputs": [
    {
     "name": "stdout",
     "output_type": "stream",
     "text": [
      "Train on 34176 samples, validate on 34415 samples\n",
      "Epoch 1/30\n",
      "34176/34176 [==============================] - 14s 404us/step - loss: 0.4334 - acc: 0.7815 - val_loss: 0.3671 - val_acc: 0.7882\n",
      "Epoch 2/30\n",
      "34176/34176 [==============================] - 7s 212us/step - loss: 0.3944 - acc: 0.7991 - val_loss: 0.3908 - val_acc: 0.7779\n",
      "Epoch 3/30\n",
      "34176/34176 [==============================] - 7s 218us/step - loss: 0.3882 - acc: 0.8026 - val_loss: 0.3816 - val_acc: 0.7809\n",
      "Epoch 4/30\n",
      "34176/34176 [==============================] - 7s 214us/step - loss: 0.3842 - acc: 0.8056 - val_loss: 0.3702 - val_acc: 0.8425\n",
      "Epoch 5/30\n",
      "34176/34176 [==============================] - 7s 206us/step - loss: 0.3812 - acc: 0.8076 - val_loss: 0.3757 - val_acc: 0.7931\n",
      "Epoch 6/30\n",
      "34176/34176 [==============================] - 7s 207us/step - loss: 0.3810 - acc: 0.8076 - val_loss: 0.3744 - val_acc: 0.8110\n",
      "Epoch 7/30\n",
      "34176/34176 [==============================] - 7s 209us/step - loss: 0.3768 - acc: 0.8091 - val_loss: 0.3879 - val_acc: 0.7878\n",
      "Epoch 8/30\n",
      "34176/34176 [==============================] - 7s 219us/step - loss: 0.3784 - acc: 0.8096 - val_loss: 0.3827 - val_acc: 0.8522\n",
      "Epoch 9/30\n",
      "34176/34176 [==============================] - 7s 207us/step - loss: 0.3777 - acc: 0.8081 - val_loss: 0.3720 - val_acc: 0.7898\n",
      "Epoch 10/30\n",
      "34176/34176 [==============================] - 7s 208us/step - loss: 0.3775 - acc: 0.8111 - val_loss: 0.3517 - val_acc: 0.8273\n",
      "Epoch 11/30\n",
      "34176/34176 [==============================] - 7s 215us/step - loss: 0.3759 - acc: 0.8101 - val_loss: 0.3626 - val_acc: 0.8281\n",
      "Epoch 12/30\n",
      "34176/34176 [==============================] - 7s 219us/step - loss: 0.3763 - acc: 0.8106 - val_loss: 0.3831 - val_acc: 0.7951\n",
      "Epoch 13/30\n",
      "34176/34176 [==============================] - 7s 205us/step - loss: 0.3757 - acc: 0.8115 - val_loss: 0.3774 - val_acc: 0.8055\n",
      "Epoch 14/30\n",
      "34176/34176 [==============================] - 7s 206us/step - loss: 0.3750 - acc: 0.8116 - val_loss: 0.3556 - val_acc: 0.8136\n",
      "Epoch 15/30\n",
      "34176/34176 [==============================] - 7s 218us/step - loss: 0.3748 - acc: 0.8130 - val_loss: 0.4011 - val_acc: 0.7925\n",
      "Epoch 16/30\n",
      "34176/34176 [==============================] - 7s 205us/step - loss: 0.3743 - acc: 0.8122 - val_loss: 0.3496 - val_acc: 0.8086\n",
      "Epoch 17/30\n",
      "34176/34176 [==============================] - 7s 206us/step - loss: 0.3747 - acc: 0.8118 - val_loss: 0.3581 - val_acc: 0.8155\n",
      "Epoch 18/30\n",
      "34176/34176 [==============================] - 7s 205us/step - loss: 0.3748 - acc: 0.8132 - val_loss: 0.3478 - val_acc: 0.8493\n",
      "Epoch 19/30\n",
      "34176/34176 [==============================] - 7s 205us/step - loss: 0.3740 - acc: 0.8121 - val_loss: 0.3913 - val_acc: 0.8004\n",
      "Epoch 20/30\n",
      "34176/34176 [==============================] - 7s 205us/step - loss: 0.3736 - acc: 0.8117 - val_loss: 0.3637 - val_acc: 0.8181\n",
      "Epoch 21/30\n",
      "34176/34176 [==============================] - 7s 204us/step - loss: 0.3734 - acc: 0.8120 - val_loss: 0.3113 - val_acc: 0.8555\n",
      "Epoch 22/30\n",
      "34176/34176 [==============================] - 8s 235us/step - loss: 0.3727 - acc: 0.8119 - val_loss: 0.3839 - val_acc: 0.7961\n",
      "Epoch 23/30\n",
      "34176/34176 [==============================] - 7s 218us/step - loss: 0.3727 - acc: 0.8123 - val_loss: 0.3898 - val_acc: 0.7730\n",
      "Epoch 24/30\n",
      "34176/34176 [==============================] - 7s 211us/step - loss: 0.3731 - acc: 0.8111 - val_loss: 0.4163 - val_acc: 0.7910\n",
      "Epoch 25/30\n",
      "34176/34176 [==============================] - 7s 208us/step - loss: 0.3718 - acc: 0.8136 - val_loss: 0.3343 - val_acc: 0.8438\n",
      "Epoch 26/30\n",
      "34176/34176 [==============================] - 8s 220us/step - loss: 0.3737 - acc: 0.8114 - val_loss: 0.3855 - val_acc: 0.8001\n",
      "Epoch 27/30\n",
      "34176/34176 [==============================] - 7s 207us/step - loss: 0.3716 - acc: 0.8125 - val_loss: 0.3938 - val_acc: 0.8038\n",
      "Epoch 28/30\n",
      "34176/34176 [==============================] - 8s 224us/step - loss: 0.3711 - acc: 0.8131 - val_loss: 0.3496 - val_acc: 0.8338\n",
      "Epoch 29/30\n",
      "34176/34176 [==============================] - 7s 206us/step - loss: 0.3722 - acc: 0.8128 - val_loss: 0.3504 - val_acc: 0.8328\n",
      "Epoch 30/30\n",
      "34176/34176 [==============================] - 7s 206us/step - loss: 0.3726 - acc: 0.8138 - val_loss: 0.3947 - val_acc: 0.8019\n"
     ]
    },
    {
     "data": {
      "text/plain": [
       "<keras.callbacks.History at 0x1600c6050>"
      ]
     },
     "execution_count": 619,
     "metadata": {},
     "output_type": "execute_result"
    }
   ],
   "source": [
    "model.fit(x_train, y_train, epochs=30, batch_size=32,validation_data=(x_test, y_test))"
   ]
  },
  {
   "cell_type": "code",
   "execution_count": null,
   "metadata": {
    "collapsed": true
   },
   "outputs": [],
   "source": []
  }
 ],
 "metadata": {
  "kernelspec": {
   "display_name": "Python 2",
   "language": "python",
   "name": "python2"
  },
  "language_info": {
   "codemirror_mode": {
    "name": "ipython",
    "version": 2
   },
   "file_extension": ".py",
   "mimetype": "text/x-python",
   "name": "python",
   "nbconvert_exporter": "python",
   "pygments_lexer": "ipython2",
   "version": "2.7.13"
  }
 },
 "nbformat": 4,
 "nbformat_minor": 2
}
